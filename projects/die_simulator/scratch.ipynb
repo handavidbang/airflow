{
 "cells": [
  {
   "cell_type": "code",
   "execution_count": 1,
   "id": "1e5ae4be",
   "metadata": {},
   "outputs": [],
   "source": [
    "import numpy as np \n",
    "import logging"
   ]
  },
  {
   "cell_type": "code",
   "execution_count": null,
   "id": "91f9c28a",
   "metadata": {},
   "outputs": [],
   "source": [
    "class GameTracker():\n",
    "    def __init__(self, n_players=2):\n",
    "        self.n_players=2 \n",
    "        self.score = 0\n",
    "        return\n",
    "    \n",
    "    def play():\n",
    "        \n",
    "        return \n",
    "    \n",
    "    "
   ]
  },
  {
   "cell_type": "code",
   "execution_count": null,
   "id": "4a58146f",
   "metadata": {},
   "outputs": [],
   "source": [
    "class Player():\n",
    "    def __init__(self, name, base_deposit=100):\n",
    "        self.name=name \n",
    "        self.deposit=base_deposit\n",
    "        self.winnings=0\n",
    "        self.tracker=0\n",
    "        return "
   ]
  },
  {
   "cell_type": "code",
   "execution_count": null,
   "id": "49450469",
   "metadata": {},
   "outputs": [],
   "source": []
  }
 ],
 "metadata": {
  "kernelspec": {
   "display_name": "Python 3 (ipykernel)",
   "language": "python",
   "name": "python3"
  },
  "language_info": {
   "codemirror_mode": {
    "name": "ipython",
    "version": 3
   },
   "file_extension": ".py",
   "mimetype": "text/x-python",
   "name": "python",
   "nbconvert_exporter": "python",
   "pygments_lexer": "ipython3",
   "version": "3.9.7"
  }
 },
 "nbformat": 4,
 "nbformat_minor": 5
}
